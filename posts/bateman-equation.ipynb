{
 "cells": [
  {
   "cell_type": "markdown",
   "metadata": {},
   "source": [
    "# Linear decay chains and the Bateman equation\n",
    "This [jupyter notebook](http://www.jupyter.org) aims to show how one may interactively work with [SymPy](http://www.sympy.org) to get help with integrating differential equations, checking correctness of solutions and generating numerical solutions with arbitrary precision. All of which is really handy when equations get complicated.\n",
    "\n",
    "Consider the following decay chain\n",
    "\n",
    "$$ u \\overset{k}{\\rightarrow} v \\overset{l}{\\rightarrow} w \\overset{m}{\\rightarrow} x $$\n",
    "\n",
    "we will use SymPy to \"manually\" solve the system of diffential equations describing the time evolution of the amounts (concentrations) of respective species."
   ]
  },
  {
   "cell_type": "code",
   "execution_count": 1,
   "metadata": {
    "collapsed": false
   },
   "outputs": [
    {
     "name": "stdout",
     "output_type": "stream",
     "text": [
      "1.0.1.dev\n"
     ]
    }
   ],
   "source": [
    "from IPython.display import display\n",
    "from sympy.interactive import printing\n",
    "printing.init_printing()\n",
    "\n",
    "import sympy\n",
    "from sympy import S, symbols, Function, Symbol, Eq, exp, Integral, refine, lambdify, latex\n",
    "print(sympy.__version__)"
   ]
  },
  {
   "cell_type": "markdown",
   "metadata": {},
   "source": [
    "Let us define the variables, $t$ is time."
   ]
  },
  {
   "cell_type": "code",
   "execution_count": 2,
   "metadata": {
    "collapsed": false
   },
   "outputs": [
    {
     "data": {
      "image/png": "[encoded data removed]",
      "text/latex": [
       "$$\\left [ k, \\quad l, \\quad m, \\quad 0\\right ]$$"
      ],
      "text/plain": [
       "[k, l, m, 0]"
      ]
     },
     "metadata": {},
     "output_type": "display_data"
    },
    {
     "data": {
      "image/png": "[encoded data removed]",
      "text/latex": [
       "$$t$$"
      ],
      "text/plain": [
       "t"
      ]
     },
     "metadata": {},
     "output_type": "display_data"
    },
    {
     "data": {
      "image/png": "[encoded data removed]",
      "text/latex": [
       "$$\\left [ u{\\left (t \\right )}, \\quad v{\\left (t \\right )}, \\quad w{\\left (t \\right )}, \\quad x{\\left (t \\right )}\\right ]$$"
      ],
      "text/plain": [
       "[u(t), v(t), w(t), x(t)]"
      ]
     },
     "metadata": {},
     "output_type": "display_data"
    },
    {
     "data": {
      "image/png": "[encoded data removed]",
      "text/latex": [
       "$$\\left [ u_{0}, \\quad v_{0}, \\quad w_{0}, \\quad x_{0}\\right ]$$"
      ],
      "text/plain": [
       "[u₀, v₀, w₀, x₀]"
      ]
     },
     "metadata": {},
     "output_type": "display_data"
    }
   ],
   "source": [
    "params = k, l, m = symbols('k l m'.split(), positive=True)\n",
    "params.append(S('0'))  # x does not decay, S('0') gives us a \"SymPy zero\"\n",
    "t = Symbol('t')\n",
    "funcs = u, v, w, x = [Function(s)(t) for s in 'uvwx']\n",
    "inits = u0, v0, w0, x0 = symbols('u0 v0 w0 x0'.split())  # initial values at t=0\n",
    "display(params, t, funcs, inits)"
   ]
  },
  {
   "cell_type": "markdown",
   "metadata": {},
   "source": [
    "Let us define our governing equations as ``eqs``"
   ]
  },
  {
   "cell_type": "code",
   "execution_count": 3,
   "metadata": {
    "collapsed": false
   },
   "outputs": [
    {
     "data": {
      "image/png": "[encoded data removed]",
      "text/latex": [
       "$$\\left [ \\frac{d}{d t} u{\\left (t \\right )} = - k u{\\left (t \\right )}, \\quad \\frac{d}{d t} v{\\left (t \\right )} = k u{\\left (t \\right )} - l v{\\left (t \\right )}, \\quad \\frac{d}{d t} w{\\left (t \\right )} = l v{\\left (t \\right )} - m w{\\left (t \\right )}, \\quad \\frac{d}{d t} x{\\left (t \\right )} = m w{\\left (t \\right )}\\right ]$$"
      ],
      "text/plain": [
       "⎡d                   d                           d                           d\n",
       "⎢──(u(t)) = -k⋅u(t), ──(v(t)) = k⋅u(t) - l⋅v(t), ──(w(t)) = l⋅v(t) - m⋅w(t), ─\n",
       "⎣dt                  dt                          dt                          d\n",
       "\n",
       "                ⎤\n",
       "─(x(t)) = m⋅w(t)⎥\n",
       "t               ⎦"
      ]
     },
     "execution_count": 3,
     "metadata": {},
     "output_type": "execute_result"
    }
   ],
   "source": [
    "eqs = [Eq(u.diff(t), -k*u), Eq(v.diff(t), k*u - l*v), Eq(w.diff(t), l*v - m*w), Eq(x.diff(t), m*w)]\n",
    "eqs"
   ]
  },
  {
   "cell_type": "markdown",
   "metadata": {},
   "source": [
    "We will need som integration constants, let us call them ``C``. We also create a list called ``sol`` to collect our analytic solutions as we go along"
   ]
  },
  {
   "cell_type": "code",
   "execution_count": 4,
   "metadata": {
    "collapsed": true
   },
   "outputs": [],
   "source": [
    "C = symbols('C:4')  # create C0, C1, C2, C3\n",
    "solutions = [S('0')]*4  # sol is length 4 list of zeroes"
   ]
  },
  {
   "cell_type": "markdown",
   "metadata": {},
   "source": [
    "Let's focus on the first equation and try an ansatz for $u(t)$"
   ]
  },
  {
   "cell_type": "code",
   "execution_count": 5,
   "metadata": {
    "collapsed": false
   },
   "outputs": [
    {
     "data": {
      "image/png": "[encoded data removed]",
      "text/latex": [
       "$$\\frac{\\partial}{\\partial t}\\left(u_{0} e^{- k t}\\right) = - k u_{0} e^{- k t}$$"
      ],
      "text/plain": [
       "∂ ⎛    -k⋅t⎞          -k⋅t\n",
       "──⎝u₀⋅ℯ    ⎠ = -k⋅u₀⋅ℯ    \n",
       "∂t                        "
      ]
     },
     "execution_count": 5,
     "metadata": {},
     "output_type": "execute_result"
    }
   ],
   "source": [
    "solutions[0] = inits[0]*exp(-k*t)  # our guess\n",
    "eqs[0].subs({funcs[0]: solutions[0]})  # substitute our functions \"u(t)\" with our \"u0*exp(-k*t)\""
   ]
  },
  {
   "cell_type": "code",
   "execution_count": 6,
   "metadata": {
    "collapsed": false
   },
   "outputs": [
    {
     "data": {
      "image/png": "[encoded data removed]",
      "text/latex": [
       "$$\\mathrm{True}$$"
      ],
      "text/plain": [
       "True"
      ]
     },
     "execution_count": 6,
     "metadata": {},
     "output_type": "execute_result"
    }
   ],
   "source": [
    "# Last cells result is saved in the variable \"_\", let's evaluate that Equality\n",
    "_.doit()  # if it returns True left hand side was equal to the right hand side"
   ]
  },
  {
   "cell_type": "markdown",
   "metadata": {},
   "source": [
    "Let us verify that the initial value is reproduced for $t=0$:"
   ]
  },
  {
   "cell_type": "code",
   "execution_count": 7,
   "metadata": {
    "collapsed": false
   },
   "outputs": [
    {
     "data": {
      "image/png": "[encoded data removed]",
      "text/latex": [
       "$$u_{0}$$"
      ],
      "text/plain": [
       "u₀"
      ]
     },
     "execution_count": 7,
     "metadata": {},
     "output_type": "execute_result"
    }
   ],
   "source": [
    "solutions[0].subs({t: 0})"
   ]
  },
  {
   "cell_type": "markdown",
   "metadata": {},
   "source": [
    "and so we have, using SymPy, verified that our trial function was correct. This is convenient, let's make it a bit more general:"
   ]
  },
  {
   "cell_type": "code",
   "execution_count": 8,
   "metadata": {
    "collapsed": true
   },
   "outputs": [],
   "source": [
    "def discrepancy(eq):\n",
    "    return (eq.lhs.doit() - eq.rhs.doit()).simplify()\n",
    "\n",
    "def check_trial(trial, subsd=None):\n",
    "    subsd = subsd or {}  # subsd is an optional dict of substitutions\n",
    "    return [discrepancy(eq.subs(dict(zip(funcs, trial))).subs(subsd))==0 for eq in eqs]"
   ]
  },
  {
   "cell_type": "markdown",
   "metadata": {},
   "source": [
    "Now let's see if our convience function ``check_trial`` returns ``True`` for the first element of sol:"
   ]
  },
  {
   "cell_type": "code",
   "execution_count": 9,
   "metadata": {
    "collapsed": false
   },
   "outputs": [
    {
     "data": {
      "text/plain": [
       "[True]"
      ]
     },
     "execution_count": 9,
     "metadata": {},
     "output_type": "execute_result"
    }
   ],
   "source": [
    "check_trial(solutions)[:1]  # still only focusing on the first equation"
   ]
  },
  {
   "cell_type": "markdown",
   "metadata": {},
   "source": [
    "Great! Let's write a convenience function to check that each solution reproduces the correct inital value for $t=0$"
   ]
  },
  {
   "cell_type": "code",
   "execution_count": 10,
   "metadata": {
    "collapsed": false
   },
   "outputs": [
    {
     "data": {
      "text/plain": [
       "[True]"
      ]
     },
     "execution_count": 10,
     "metadata": {},
     "output_type": "execute_result"
    }
   ],
   "source": [
    "def check_init(trial):\n",
    "    return [tr.subs({t: 0}).simplify() == inits[idx] for idx, tr in enumerate(trial)]\n",
    "check_init(solutions)[:1]"
   ]
  },
  {
   "cell_type": "markdown",
   "metadata": {},
   "source": [
    "no surprises there, we will use ``check_trial(solutions)`` and ``check_init(solutions)`` as we go along. Now, let us look at how the next differential equation is formulated now that we have an explicit expression for $u(t)$:"
   ]
  },
  {
   "cell_type": "code",
   "execution_count": 11,
   "metadata": {
    "collapsed": false
   },
   "outputs": [
    {
     "data": {
      "image/png": "[encoded data removed]",
      "text/latex": [
       "$$\\frac{d}{d t} v{\\left (t \\right )} = k u_{0} e^{- k t} - l v{\\left (t \\right )}$$"
      ],
      "text/plain": [
       "d                -k⋅t         \n",
       "──(v(t)) = k⋅u₀⋅ℯ     - l⋅v(t)\n",
       "dt                            "
      ]
     },
     "execution_count": 11,
     "metadata": {},
     "output_type": "execute_result"
    }
   ],
   "source": [
    "eqs[1].subs({funcs[0]: solutions[0]})"
   ]
  },
  {
   "cell_type": "markdown",
   "metadata": {},
   "source": [
    "## Integrating factor\n",
    "The kind of differential equation above may be solved using an integrating factor.\n",
    "For an equation of type:\n",
    "\n",
    "$ y' + P(t)y = Q(t) $\n",
    "\n",
    "using an <a href=http://en.wikipedia.org/wiki/Integrating_factor>integrating factor</a>, M:\n",
    "\n",
    "$ M = e^{\\int_{0}^t P(s)ds} $\n",
    "\n",
    "we have:\n",
    "\n",
    "$ y = \\frac{\\int_0^t{MQ}}{M} + \\frac{y(0)}{M} $\n",
    "\n",
    "Identifying these terms in our differential equation for $v(t)$ leads to the following expressions:"
   ]
  },
  {
   "cell_type": "code",
   "execution_count": 12,
   "metadata": {
    "collapsed": false
   },
   "outputs": [
    {
     "data": {
      "image/png": "[encoded data removed]",
      "text/latex": [
       "$$v_{0} e^{- l t} + e^{- l t} \\int_{0}^{t} k u_{0} e^{- k t} e^{l t}\\, dt$$"
      ],
      "text/plain": [
       "                 t                   \n",
       "                 ⌠                   \n",
       "    -l⋅t    -l⋅t ⎮       -k⋅t  l⋅t   \n",
       "v₀⋅ℯ     + ℯ    ⋅⎮ k⋅u₀⋅ℯ    ⋅ℯ    dt\n",
       "                 ⌡                   \n",
       "                 0                   "
      ]
     },
     "execution_count": 12,
     "metadata": {},
     "output_type": "execute_result"
    }
   ],
   "source": [
    "M = exp(l*t)\n",
    "Q = k*solutions[0]\n",
    "v_integral = Integral(M*Q, (t, 0, t))/M + inits[1]/M\n",
    "v_integral"
   ]
  },
  {
   "cell_type": "markdown",
   "metadata": {},
   "source": [
    "we can see that the expression for $y$ depends on whether $ k = l $ or  $ k \\neq l $, this is important as we will see quite soon. First let's solve the integral by hand for $k \\neq l$"
   ]
  },
  {
   "cell_type": "code",
   "execution_count": 13,
   "metadata": {
    "collapsed": false
   },
   "outputs": [
    {
     "data": {
      "image/png": "[encoded data removed]",
      "text/latex": [
       "$$\\left(k u_{0} \\left(\\frac{e^{t \\left(- k + l\\right)}}{- k + l} - \\frac{1}{- k + l}\\right) + v_{0}\\right) e^{- l t}$$"
      ],
      "text/plain": [
       "⎛     ⎛ t⋅(-k + l)         ⎞     ⎞      \n",
       "⎜     ⎜ℯ               1   ⎟     ⎟  -l⋅t\n",
       "⎜k⋅u₀⋅⎜─────────── - ──────⎟ + v₀⎟⋅ℯ    \n",
       "⎝     ⎝   -k + l     -k + l⎠     ⎠      "
      ]
     },
     "execution_count": 13,
     "metadata": {},
     "output_type": "execute_result"
    }
   ],
   "source": [
    "# for k != l, with pen and paper we integrate:\n",
    "trial_neq = exp(-l*t)*(inits[1]+k*inits[0]*(exp(t*(l-k))/(l-k) - 1/(l-k)))\n",
    "trial_neq"
   ]
  },
  {
   "cell_type": "code",
   "execution_count": 14,
   "metadata": {
    "collapsed": false
   },
   "outputs": [
    {
     "data": {
      "text/plain": [
       "[True, True]"
      ]
     },
     "execution_count": 14,
     "metadata": {},
     "output_type": "execute_result"
    }
   ],
   "source": [
    "check_trial([solutions[0], trial_neq])[:2]"
   ]
  },
  {
   "cell_type": "code",
   "execution_count": 15,
   "metadata": {
    "collapsed": false
   },
   "outputs": [
    {
     "data": {
      "text/plain": [
       "[True, True]"
      ]
     },
     "execution_count": 15,
     "metadata": {},
     "output_type": "execute_result"
    }
   ],
   "source": [
    "check_init([solutions[0], trial_neq])"
   ]
  },
  {
   "cell_type": "markdown",
   "metadata": {},
   "source": [
    "Alright, `trial_neq` is a valid solution (`True` tells us with didn't mess up when doing this with pen and paper). \n",
    "\n",
    "Now let's do the same for the (simpler) case $k = l$:"
   ]
  },
  {
   "cell_type": "code",
   "execution_count": 16,
   "metadata": {
    "collapsed": false
   },
   "outputs": [
    {
     "data": {
      "image/png": "[encoded data removed]",
      "text/latex": [
       "$$\\left(k t u_{0} + v_{0}\\right) e^{- l t}$$"
      ],
      "text/plain": [
       "               -l⋅t\n",
       "(k⋅t⋅u₀ + v₀)⋅ℯ    "
      ]
     },
     "execution_count": 16,
     "metadata": {},
     "output_type": "execute_result"
    }
   ],
   "source": [
    "# for k == l, with pen and paper we integrate:\n",
    "trial_eq = exp(-l*t)*(inits[1]+k*inits[0]*t)\n",
    "trial_eq"
   ]
  },
  {
   "cell_type": "markdown",
   "metadata": {},
   "source": [
    "For checking the case of $l=k$ we need to substitute $l$ with $k$ (or vise versa), the second input argument in our convenience function was added just for this reason:"
   ]
  },
  {
   "cell_type": "code",
   "execution_count": 17,
   "metadata": {
    "collapsed": false
   },
   "outputs": [
    {
     "data": {
      "text/plain": [
       "([True, True], [True, True])"
      ]
     },
     "execution_count": 17,
     "metadata": {},
     "output_type": "execute_result"
    }
   ],
   "source": [
    "check_trial([solutions[0], trial_eq], {l: k})[:2], check_init([solutions[0], trial_eq])"
   ]
  },
  {
   "cell_type": "markdown",
   "metadata": {},
   "source": [
    "No surprises there: `trial_eq` is also a valid solution. We have now verified that our manual labour was done correctly. Next step is integrating $w$, we already realize that its closed form depends on wether $k = l$ holds, and we might (correctly) suspect that the same question will arise for $l = m$. We will in the following assume that $ k \\neq l $, $ l \\neq m $ and $ k \\neq m $. This is is also an interesting case which has a general solution found by Bateman, which we will look closer at soon.\n",
    "\n",
    "We found the integrals for our trial function by hand. We will now look into how we could have made SymPy do this for us."
   ]
  },
  {
   "cell_type": "code",
   "execution_count": 18,
   "metadata": {
    "collapsed": false
   },
   "outputs": [
    {
     "data": {
      "image/png": "[encoded data removed]",
      "text/latex": [
       "$$v_{0} e^{- l t} + \\left(- k u_{0} \\left(\\begin{cases} 0 & \\text{for}\\: l = k \\\\- \\frac{1}{k - l} & \\text{otherwise} \\end{cases}\\right) + k u_{0} \\left(\\begin{cases} t & \\text{for}\\: l = k \\\\- \\frac{e^{l t}}{k e^{k t} - l e^{k t}} & \\text{otherwise} \\end{cases}\\right)\\right) e^{- l t}$$"
      ],
      "text/plain": [
       "           ⎛                                  ⎛⎧       t         for l = k⎞⎞  \n",
       "           ⎜       ⎛⎧  0    for l = k⎞        ⎜⎪                          ⎟⎟  \n",
       "    -l⋅t   ⎜       ⎜⎪                ⎟        ⎜⎪       l⋅t                ⎟⎟  \n",
       "v₀⋅ℯ     + ⎜- k⋅u₀⋅⎜⎨ -1             ⎟ + k⋅u₀⋅⎜⎨     -ℯ                   ⎟⎟⋅ℯ\n",
       "           ⎜       ⎜⎪─────  otherwise⎟        ⎜⎪───────────────  otherwise⎟⎟  \n",
       "           ⎜       ⎝⎩k - l           ⎠        ⎜⎪   k⋅t      k⋅t           ⎟⎟  \n",
       "           ⎝                                  ⎝⎩k⋅ℯ    - l⋅ℯ              ⎠⎠  \n",
       "\n",
       "    \n",
       "    \n",
       "-l⋅t\n",
       "    \n",
       "    \n",
       "    \n",
       "    "
      ]
     },
     "execution_count": 18,
     "metadata": {},
     "output_type": "execute_result"
    }
   ],
   "source": [
    "vsol = v_integral.doit()\n",
    "vsol"
   ]
  },
  {
   "cell_type": "markdown",
   "metadata": {},
   "source": [
    " SymPy correctly identifies the two solutions, now let's tell SymPy that we are interested in the solution for $k \\neq l$."
   ]
  },
  {
   "cell_type": "code",
   "execution_count": 19,
   "metadata": {
    "collapsed": false
   },
   "outputs": [
    {
     "data": {
      "image/png": "[encoded data removed]",
      "text/latex": [
       "$$\\left ( \\frac{e^{- t \\left(k + l\\right)}}{k - l} \\left(k u_{0} \\left(e^{k t} - e^{l t}\\right) + v_{0} \\left(k - l\\right) e^{k t}\\right), \\quad \\left(k t u_{0} + v_{0}\\right) e^{- l t}\\right )$$"
      ],
      "text/plain": [
       "⎛⎛     ⎛ k⋅t    l⋅t⎞               k⋅t⎞  -t⋅(k + l)                     ⎞\n",
       "⎜⎝k⋅u₀⋅⎝ℯ    - ℯ   ⎠ + v₀⋅(k - l)⋅ℯ   ⎠⋅ℯ                           -l⋅t⎟\n",
       "⎜──────────────────────────────────────────────────, (k⋅t⋅u₀ + v₀)⋅ℯ    ⎟\n",
       "⎝                      k - l                                            ⎠"
      ]
     },
     "execution_count": 19,
     "metadata": {},
     "output_type": "execute_result"
    }
   ],
   "source": [
    "eq_assumption = sympy.Q.is_true(Eq(l, k))\n",
    "vsol_eq = refine(vsol, eq_assumption).simplify()\n",
    "vsol_neq = refine(vsol, ~eq_assumption).simplify()\n",
    "solutions[1] = vsol_eq\n",
    "vsol_neq, vsol_eq"
   ]
  },
  {
   "cell_type": "markdown",
   "metadata": {},
   "source": [
    "Let us see if that is the same result as we got by hand:"
   ]
  },
  {
   "cell_type": "code",
   "execution_count": 20,
   "metadata": {
    "collapsed": false
   },
   "outputs": [
    {
     "data": {
      "image/png": "[encoded data removed]",
      "text/latex": [
       "$$0$$"
      ],
      "text/plain": [
       "0"
      ]
     },
     "execution_count": 20,
     "metadata": {},
     "output_type": "execute_result"
    }
   ],
   "source": [
    "(trial_neq - vsol_neq).simplify()"
   ]
  },
  {
   "cell_type": "markdown",
   "metadata": {},
   "source": [
    "Indeed it is.\n",
    "\n",
    "Ok, now let's see if we can put all our steps for solving $v(t)$ into an algorithm and apply it for $w(t)$:"
   ]
  },
  {
   "cell_type": "code",
   "execution_count": 21,
   "metadata": {
    "collapsed": true
   },
   "outputs": [],
   "source": [
    "def integrate_using_integrating_factor(idx, **kwargs):\n",
    "    # Note that this functions uses some global state (which is sub-optimal):\n",
    "    #   inits, params, solutions, t\n",
    "    M = exp(params[idx]*t)\n",
    "    Q = params[idx-1]*solutions[idx-1]\n",
    "    y_int = Integral(M*Q, (t, 0, t)).doit(**kwargs)/M + inits[idx]/M\n",
    "    assumptions = None\n",
    "    for idx2 in range(idx-1,-1,-1):\n",
    "        # k != l != m != ...\n",
    "        if assumptions == None:\n",
    "            assumptions = ~sympy.Q.is_true(Eq(params[idx], params[idx2]))\n",
    "        else:\n",
    "            assumptions = assumptions & ~sympy.Q.is_true(Eq(params[idx], params[idx2]))\n",
    "    return refine(y_int, assumptions)"
   ]
  },
  {
   "cell_type": "markdown",
   "metadata": {},
   "source": [
    "Let's test this function it for $v(t)$:"
   ]
  },
  {
   "cell_type": "code",
   "execution_count": 22,
   "metadata": {
    "collapsed": false
   },
   "outputs": [
    {
     "data": {
      "image/png": "[encoded data removed]",
      "text/latex": [
       "$$\\frac{e^{- t \\left(k + l\\right)}}{k - l} \\left(k u_{0} \\left(e^{k t} - e^{l t}\\right) + v_{0} \\left(k - l\\right) e^{k t}\\right)$$"
      ],
      "text/plain": [
       "⎛     ⎛ k⋅t    l⋅t⎞               k⋅t⎞  -t⋅(k + l)\n",
       "⎝k⋅u₀⋅⎝ℯ    - ℯ   ⎠ + v₀⋅(k - l)⋅ℯ   ⎠⋅ℯ          \n",
       "──────────────────────────────────────────────────\n",
       "                      k - l                       "
      ]
     },
     "execution_count": 22,
     "metadata": {},
     "output_type": "execute_result"
    }
   ],
   "source": [
    "integrate_using_integrating_factor(1).simplify()"
   ]
  },
  {
   "cell_type": "markdown",
   "metadata": {},
   "source": [
    "It turns out that the integration takes a very long time if we try to use this for $w(t)$,\n",
    "so let's see if we can help sympy by giving it a hint. We will use $v(t)$ as a benchmark"
   ]
  },
  {
   "cell_type": "code",
   "execution_count": 24,
   "metadata": {
    "collapsed": false
   },
   "outputs": [
    {
     "name": "stdout",
     "output_type": "stream",
     "text": [
      "1 loop, best of 3: 217 ms per loop\n"
     ]
    },
    {
     "data": {
      "image/png": "[encoded data removed]",
      "text/latex": [
       "$$- k u_{0} \\left(\\begin{cases} 0 & \\text{for}\\: l = k \\\\- \\frac{1}{k - l} & \\text{otherwise} \\end{cases}\\right) + k u_{0} \\left(\\begin{cases} t & \\text{for}\\: l = k \\\\- \\frac{e^{l t}}{k e^{k t} - l e^{k t}} & \\text{otherwise} \\end{cases}\\right)$$"
      ],
      "text/plain": [
       "                                  ⎛⎧       t         for l = k⎞\n",
       "       ⎛⎧  0    for l = k⎞        ⎜⎪                          ⎟\n",
       "       ⎜⎪                ⎟        ⎜⎪       l⋅t                ⎟\n",
       "- k⋅u₀⋅⎜⎨ -1             ⎟ + k⋅u₀⋅⎜⎨     -ℯ                   ⎟\n",
       "       ⎜⎪─────  otherwise⎟        ⎜⎪───────────────  otherwise⎟\n",
       "       ⎝⎩k - l           ⎠        ⎜⎪   k⋅t      k⋅t           ⎟\n",
       "                                  ⎝⎩k⋅ℯ    - l⋅ℯ              ⎠"
      ]
     },
     "execution_count": 24,
     "metadata": {},
     "output_type": "execute_result"
    }
   ],
   "source": [
    "v_int_part = Integral(M*Q, (t, 0, t))\n",
    "%timeit v_int_part.doit()\n",
    "v_int_part.doit()"
   ]
  },
  {
   "cell_type": "markdown",
   "metadata": {},
   "source": [
    "The <a href=\"http://docs.sympy.org/0.7.6/modules/integrals/integrals.html\">sympy documentation</a> tells us to look at the\n",
    "docstring of <a href=\"https://github.com/sympy/sympy/blob/sympy-0.7.6/sympy/integrals/integrals.py#L628\">sympy.Integral._eval_integral</a>. From there we learn that one\n",
    "algortihm \"Meijerg\" is supposed to be efficient for definite integrals so we give it a try:"
   ]
  },
  {
   "cell_type": "code",
   "execution_count": 25,
   "metadata": {
    "collapsed": false
   },
   "outputs": [
    {
     "data": {
      "image/png": "[encoded data removed]",
      "text/latex": [
       "$$- \\frac{k u_{0} e^{l t}}{k e^{k t} - l e^{k t}} + \\frac{k u_{0}}{k - l}$$"
      ],
      "text/plain": [
       "           l⋅t           \n",
       "     k⋅u₀⋅ℯ          k⋅u₀\n",
       "- ─────────────── + ─────\n",
       "     k⋅t      k⋅t   k - l\n",
       "  k⋅ℯ    - l⋅ℯ           "
      ]
     },
     "execution_count": 25,
     "metadata": {},
     "output_type": "execute_result"
    }
   ],
   "source": [
    "v_int_part.doit(meijerg=True)"
   ]
  },
  {
   "cell_type": "markdown",
   "metadata": {},
   "source": [
    "Note that ``meijerg=True`` caused sympy to miss the special case of $k=l$\n",
    "\n",
    "Now let's see how fast it is:"
   ]
  },
  {
   "cell_type": "code",
   "execution_count": 26,
   "metadata": {
    "collapsed": false
   },
   "outputs": [
    {
     "name": "stdout",
     "output_type": "stream",
     "text": [
      "10 loops, best of 3: 67.4 ms per loop\n"
     ]
    }
   ],
   "source": [
    "%timeit v_int_part.doit(meijerg=True)"
   ]
  },
  {
   "cell_type": "markdown",
   "metadata": {},
   "source": [
    "More than twice as fast, let's try it for $w$"
   ]
  },
  {
   "cell_type": "code",
   "execution_count": 27,
   "metadata": {
    "collapsed": false
   },
   "outputs": [
    {
     "name": "stdout",
     "output_type": "stream",
     "text": [
      "integration took 1.8 seconds.\n"
     ]
    },
    {
     "data": {
      "image/png": "[encoded data removed]",
      "text/latex": [
       "$$w_{0} e^{- m t} + \\left(- l \\left(- \\frac{k u_{0}}{l^{2} - 2 l m + m^{2}} - \\frac{l v_{0}}{l^{2} - 2 l m + m^{2}} + \\frac{m v_{0}}{l^{2} - 2 l m + m^{2}}\\right) + l \\left(- \\frac{k l t u_{0} e^{- l t} e^{m t}}{l^{2} - 2 l m + m^{2}} + \\frac{k m t u_{0} e^{- l t} e^{m t}}{l^{2} - 2 l m + m^{2}} - \\frac{k u_{0} e^{- l t} e^{m t}}{l^{2} - 2 l m + m^{2}} - \\frac{l v_{0} e^{- l t} e^{m t}}{l^{2} - 2 l m + m^{2}} + \\frac{m v_{0} e^{- l t} e^{m t}}{l^{2} - 2 l m + m^{2}}\\right)\\right) e^{- m t}$$"
      ],
      "text/plain": [
       "           ⎛                                                                ⎛ \n",
       "    -m⋅t   ⎜    ⎛        k⋅u₀              l⋅v₀              m⋅v₀     ⎞     ⎜ \n",
       "w₀⋅ℯ     + ⎜- l⋅⎜- ─────────────── - ─────────────── + ───────────────⎟ + l⋅⎜-\n",
       "           ⎜    ⎜   2            2    2            2    2            2⎟     ⎜ \n",
       "           ⎝    ⎝  l  - 2⋅l⋅m + m    l  - 2⋅l⋅m + m    l  - 2⋅l⋅m + m ⎠     ⎝ \n",
       "\n",
       "           -l⋅t  m⋅t             -l⋅t  m⋅t         -l⋅t  m⋅t         -l⋅t  m⋅t\n",
       " k⋅l⋅t⋅u₀⋅ℯ    ⋅ℯ      k⋅m⋅t⋅u₀⋅ℯ    ⋅ℯ      k⋅u₀⋅ℯ    ⋅ℯ      l⋅v₀⋅ℯ    ⋅ℯ   \n",
       " ─────────────────── + ─────────────────── - ─────────────── - ───────────────\n",
       "    2            2        2            2      2            2    2            2\n",
       "   l  - 2⋅l⋅m + m        l  - 2⋅l⋅m + m      l  - 2⋅l⋅m + m    l  - 2⋅l⋅m + m \n",
       "\n",
       "         -l⋅t  m⋅t⎞⎞      \n",
       "   m⋅v₀⋅ℯ    ⋅ℯ   ⎟⎟  -m⋅t\n",
       " + ───────────────⎟⎟⋅ℯ    \n",
       "    2            2⎟⎟      \n",
       "   l  - 2⋅l⋅m + m ⎠⎠      "
      ]
     },
     "execution_count": 27,
     "metadata": {},
     "output_type": "execute_result"
    }
   ],
   "source": [
    "import time\n",
    "time0 = time.time()\n",
    "solutions[2] = integrate_using_integrating_factor(2, meijerg=True)  # Not passing meijerg = True takes too long..\n",
    "print(\"integration took %3.1f seconds.\" % (time.time()-time0))\n",
    "solutions[2]"
   ]
  },
  {
   "cell_type": "markdown",
   "metadata": {},
   "source": [
    "We can try for $x(t)$ as well, it takes about 30s on my laptop:"
   ]
  },
  {
   "cell_type": "code",
   "execution_count": 28,
   "metadata": {
    "collapsed": false
   },
   "outputs": [
    {
     "name": "stdout",
     "output_type": "stream",
     "text": [
      "integration took 773.5 seconds.\n"
     ]
    },
    {
     "data": {
      "image/png": "[encoded data removed]",
      "text/latex": [
       "$$- m \\left(\\frac{k l^{2} u_{0}}{l^{4} - 2 l^{3} m + l^{2} m^{2}} - \\frac{k l m u_{0}}{l^{4} - 2 l^{3} m + l^{2} m^{2}} - \\frac{k l u_{0}}{l^{2} m - 2 l m^{2} + m^{3}} + \\frac{k l u_{0}}{l^{3} - 2 l^{2} m + l m^{2}} - \\frac{l^{2} v_{0}}{l^{2} m - 2 l m^{2} + m^{3}} + \\frac{l^{2} v_{0}}{l^{3} - 2 l^{2} m + l m^{2}} + \\frac{l m v_{0}}{l^{2} m - 2 l m^{2} + m^{3}} - \\frac{l m v_{0}}{l^{3} - 2 l^{2} m + l m^{2}} - \\frac{w_{0}}{m}\\right) + m \\left(\\frac{k l^{3} t u_{0}}{l^{4} e^{l t} - 2 l^{3} m e^{l t} + l^{2} m^{2} e^{l t}} - \\frac{k l^{2} m t u_{0}}{l^{4} e^{l t} - 2 l^{3} m e^{l t} + l^{2} m^{2} e^{l t}} + \\frac{k l^{2} u_{0}}{l^{4} e^{l t} - 2 l^{3} m e^{l t} + l^{2} m^{2} e^{l t}} - \\frac{k l m u_{0}}{l^{4} e^{l t} - 2 l^{3} m e^{l t} + l^{2} m^{2} e^{l t}} - \\frac{k l u_{0}}{l^{2} m e^{m t} - 2 l m^{2} e^{m t} + m^{3} e^{m t}} + \\frac{k l u_{0}}{l^{3} e^{l t} - 2 l^{2} m e^{l t} + l m^{2} e^{l t}} - \\frac{l^{2} v_{0}}{l^{2} m e^{m t} - 2 l m^{2} e^{m t} + m^{3} e^{m t}} + \\frac{l^{2} v_{0}}{l^{3} e^{l t} - 2 l^{2} m e^{l t} + l m^{2} e^{l t}} + \\frac{l m v_{0}}{l^{2} m e^{m t} - 2 l m^{2} e^{m t} + m^{3} e^{m t}} - \\frac{l m v_{0}}{l^{3} e^{l t} - 2 l^{2} m e^{l t} + l m^{2} e^{l t}} - \\frac{w_{0}}{m} e^{- m t}\\right) + x_{0}$$"
      ],
      "text/plain": [
       "    ⎛         2                                                               \n",
       "    ⎜      k⋅l ⋅u₀               k⋅l⋅m⋅u₀              k⋅l⋅u₀               k⋅\n",
       "- m⋅⎜─────────────────── - ─────────────────── - ────────────────── + ────────\n",
       "    ⎜ 4      3      2  2    4      3      2  2    2          2    3    3      \n",
       "    ⎝l  - 2⋅l ⋅m + l ⋅m    l  - 2⋅l ⋅m + l ⋅m    l ⋅m - 2⋅l⋅m  + m    l  - 2⋅l\n",
       "\n",
       "                    2                    2                                    \n",
       "l⋅u₀               l ⋅v₀                l ⋅v₀                l⋅m⋅v₀           \n",
       "────────── - ────────────────── + ────────────────── + ────────────────── - ──\n",
       "2        2    2          2    3    3      2        2    2          2    3    3\n",
       " ⋅m + l⋅m    l ⋅m - 2⋅l⋅m  + m    l  - 2⋅l ⋅m + l⋅m    l ⋅m - 2⋅l⋅m  + m    l \n",
       "\n",
       "                     ⎞     ⎛               3                                  \n",
       "    l⋅m⋅v₀         w₀⎟     ⎜            k⋅l ⋅t⋅u₀                           k⋅\n",
       "──────────────── - ──⎟ + m⋅⎜────────────────────────────────── - ─────────────\n",
       "      2        2   m ⎟     ⎜ 4  l⋅t      3    l⋅t    2  2  l⋅t    4  l⋅t      \n",
       " - 2⋅l ⋅m + l⋅m      ⎠     ⎝l ⋅ℯ    - 2⋅l ⋅m⋅ℯ    + l ⋅m ⋅ℯ      l ⋅ℯ    - 2⋅l\n",
       "\n",
       " 2                                      2                                     \n",
       "l ⋅m⋅t⋅u₀                            k⋅l ⋅u₀                              k⋅l⋅\n",
       "───────────────────── + ────────────────────────────────── - ─────────────────\n",
       "3    l⋅t    2  2  l⋅t    4  l⋅t      3    l⋅t    2  2  l⋅t    4  l⋅t      3   \n",
       " ⋅m⋅ℯ    + l ⋅m ⋅ℯ      l ⋅ℯ    - 2⋅l ⋅m⋅ℯ    + l ⋅m ⋅ℯ      l ⋅ℯ    - 2⋅l ⋅m⋅\n",
       "\n",
       "                                                                              \n",
       "m⋅u₀                              k⋅l⋅u₀                              k⋅l⋅u₀  \n",
       "───────────────── - ───────────────────────────────── + ──────────────────────\n",
       " l⋅t    2  2  l⋅t    2    m⋅t        2  m⋅t    3  m⋅t    3  l⋅t      2    l⋅t \n",
       "ℯ    + l ⋅m ⋅ℯ      l ⋅m⋅ℯ    - 2⋅l⋅m ⋅ℯ    + m ⋅ℯ      l ⋅ℯ    - 2⋅l ⋅m⋅ℯ    \n",
       "\n",
       "                             2                                   2            \n",
       "                            l ⋅v₀                               l ⋅v₀         \n",
       "─────────── - ───────────────────────────────── + ────────────────────────────\n",
       "     2  l⋅t    2    m⋅t        2  m⋅t    3  m⋅t    3  l⋅t      2    l⋅t      2\n",
       "+ l⋅m ⋅ℯ      l ⋅m⋅ℯ    - 2⋅l⋅m ⋅ℯ    + m ⋅ℯ      l ⋅ℯ    - 2⋅l ⋅m⋅ℯ    + l⋅m \n",
       "\n",
       "                                                                              \n",
       "                      l⋅m⋅v₀                              l⋅m⋅v₀              \n",
       "───── + ───────────────────────────────── - ───────────────────────────────── \n",
       "  l⋅t    2    m⋅t        2  m⋅t    3  m⋅t    3  l⋅t      2    l⋅t      2  l⋅t \n",
       "⋅ℯ      l ⋅m⋅ℯ    - 2⋅l⋅m ⋅ℯ    + m ⋅ℯ      l ⋅ℯ    - 2⋅l ⋅m⋅ℯ    + l⋅m ⋅ℯ    \n",
       "\n",
       "      -m⋅t⎞     \n",
       "  w₀⋅ℯ    ⎟     \n",
       "- ────────⎟ + x₀\n",
       "     m    ⎟     \n",
       "          ⎠     "
      ]
     },
     "execution_count": 28,
     "metadata": {},
     "output_type": "execute_result"
    }
   ],
   "source": [
    "import time\n",
    "time0 = time.time()\n",
    "solutions[3] = integrate_using_integrating_factor(3, meijerg=True)\n",
    "print(\"integration took %3.1f seconds.\" % (time.time()-time0))\n",
    "solutions[3]"
   ]
  },
  {
   "cell_type": "markdown",
   "metadata": {},
   "source": [
    "Ok, now the assumptions are getting tricky (or rather, SymPy's way to handle them here makes life hard for us). Let us therefore abandon this approach for a little while and look at <a href=\"http://en.wikipedia.org/wiki/Bateman_Equation\">the Bateman Equation</a>. \n",
    "\n",
    "## Bateman Equation\n",
    "In his <a href=\"https://archive.org/details/cbarchive_122715_solutionofasystemofdifferentia1843\">paper from 1910</a> Bateman solves the system of differential equations\n",
    "by first taking the <a href=\"http://en.wikipedia.org/wiki/Laplace_transform\">Laplace transform</a> of the dependent variables (for u: $U(t) = \\int_0^\\infty e^{-ts}u(s)ds$). For the case of no source terms, and where there are no daughters at $t=0$ the solution is (indexing starts at 0):\n",
    "\n",
    "$$\n",
    "N_i = N_0(0) \\left(\n",
    "   \\prod_{j=0}^{i-1} \\lambda_j\n",
    "  \\right)\n",
    "  \\sum_{k=0}^{i} \\frac{\n",
    "   e^{-\\lambda_k t}\n",
    "  }{\n",
    "   \\prod_{l=0,l\\neq k}^{i} \\lambda_l - \\lambda_k\n",
    "  }\n",
    "$$\n",
    "\n",
    "Let us impement that equation as `bateman_parent()` indicating it is valid for a system starting with no daughters:"
   ]
  },
  {
   "cell_type": "code",
   "execution_count": 29,
   "metadata": {
    "collapsed": true
   },
   "outputs": [],
   "source": [
    "def bateman_parent(lmbd, t, one=1, zero=0, exp=None):\n",
    "    n = len(lmbd)\n",
    "    N = [None]*n\n",
    "    lmbd_prod = one\n",
    "    if exp == None:\n",
    "        import math\n",
    "        exp = math.exp\n",
    "    for i in range(n):\n",
    "        if i > 0:\n",
    "            lmbd_prod *= lmbd[i-1]\n",
    "        sum_k = zero\n",
    "        for k in range(i+1):\n",
    "            prod_l = one\n",
    "            for l in range(i+1):\n",
    "                if l == k:\n",
    "                    continue\n",
    "                prod_l *= lmbd[l] - lmbd[k]\n",
    "            sum_k += exp(-lmbd[k]*t)/prod_l\n",
    "        N[i] = lmbd_prod*sum_k\n",
    "    return N"
   ]
  },
  {
   "cell_type": "markdown",
   "metadata": {},
   "source": [
    "For a single decay with unit initial number density we get:"
   ]
  },
  {
   "cell_type": "code",
   "execution_count": 30,
   "metadata": {
    "collapsed": false
   },
   "outputs": [
    {
     "data": {
      "image/png": "[encoded data removed]",
      "text/latex": [
       "$$\\left [ e^{- k t}, \\quad 1 - e^{- k t}\\right ]$$"
      ],
      "text/plain": [
       "⎡ -k⋅t       -k⋅t⎤\n",
       "⎣ℯ    , 1 - ℯ    ⎦"
      ]
     },
     "execution_count": 30,
     "metadata": {},
     "output_type": "execute_result"
    }
   ],
   "source": [
    "[expr.simplify() for expr in bateman_parent([k, S('0')], t, S('1'), S('0'), sympy.exp)]"
   ]
  },
  {
   "cell_type": "markdown",
   "metadata": {},
   "source": [
    "So that looks promising, let's write a wrapping function `bateman_full()` for the general solution with possibly finite initial daughter concentrations. One may quickly realize that the expression must be a linear combination of (shorter) decay chains where the indiviual chains represent systems with no daughters:"
   ]
  },
  {
   "cell_type": "code",
   "execution_count": 31,
   "metadata": {
    "collapsed": true
   },
   "outputs": [],
   "source": [
    "def bateman_full(y0s, lmbd, t, one=1, zero=0, exp=None):\n",
    "    n = len(lmbd)\n",
    "    if len(y0s) != n:\n",
    "        raise ValueError(\"Please pass equal number of decay\"\n",
    "                         \" constants as initial concentrations\"\n",
    "                         \" (you may want to pad lmbd with zeroes)\")\n",
    "    N = [zero]*n\n",
    "    for i, y0 in enumerate(y0s):\n",
    "        if y0 == zero:\n",
    "            continue\n",
    "        Ni = bateman_parent(lmbd[i:], t, one, zero, exp)\n",
    "        for j, yj in enumerate(Ni, i):\n",
    "            N[j] += y0*yj\n",
    "    return N"
   ]
  },
  {
   "cell_type": "markdown",
   "metadata": {},
   "source": [
    "Applying ``bateman_full(...)`` on our initial problem gives us the following solutions:"
   ]
  },
  {
   "cell_type": "code",
   "execution_count": 32,
   "metadata": {
    "collapsed": false
   },
   "outputs": [
    {
     "data": {
      "image/png": "[encoded data removed]",
      "text/latex": [
       "$$u{\\left (t \\right )} = u_{0} e^{- k t}$$"
      ],
      "text/plain": [
       "           -k⋅t\n",
       "u(t) = u₀⋅ℯ    "
      ]
     },
     "metadata": {},
     "output_type": "display_data"
    },
    {
     "data": {
      "image/png": "[encoded data removed]",
      "text/latex": [
       "$$v{\\left (t \\right )} = \\frac{e^{- t \\left(k + l\\right)}}{k - l} \\left(k u_{0} e^{k t} - k u_{0} e^{l t} + k v_{0} e^{k t} - l v_{0} e^{k t}\\right)$$"
      ],
      "text/plain": [
       "       ⎛      k⋅t         l⋅t         k⋅t         k⋅t⎞  -t⋅(k + l)\n",
       "       ⎝k⋅u₀⋅ℯ    - k⋅u₀⋅ℯ    + k⋅v₀⋅ℯ    - l⋅v₀⋅ℯ   ⎠⋅ℯ          \n",
       "v(t) = ───────────────────────────────────────────────────────────\n",
       "                                  k - l                           "
      ]
     },
     "metadata": {},
     "output_type": "display_data"
    },
    {
     "data": {
      "image/png": "[encoded data removed]",
      "text/latex": [
       "$$w{\\left (t \\right )} = k l u_{0} \\left(\\frac{e^{- m t}}{\\left(k - m\\right) \\left(l - m\\right)} - \\frac{e^{- l t}}{\\left(k - l\\right) \\left(l - m\\right)} + \\frac{e^{- k t}}{\\left(k - l\\right) \\left(k - m\\right)}\\right) + l v_{0} \\left(\\frac{e^{- m t}}{l - m} - \\frac{e^{- l t}}{l - m}\\right) + w_{0} e^{- m t}$$"
      ],
      "text/plain": [
       "              ⎛      -m⋅t              -l⋅t              -k⋅t     ⎞        ⎛ -\n",
       "              ⎜     ℯ                 ℯ                 ℯ         ⎟        ⎜ℯ \n",
       "w(t) = k⋅l⋅u₀⋅⎜─────────────── - ─────────────── + ───────────────⎟ + l⋅v₀⋅⎜──\n",
       "              ⎝(k - m)⋅(l - m)   (k - l)⋅(l - m)   (k - l)⋅(k - m)⎠        ⎝l \n",
       "\n",
       "m⋅t    -l⋅t⎞           \n",
       "      ℯ    ⎟       -m⋅t\n",
       "─── - ─────⎟ + w₀⋅ℯ    \n",
       "- m   l - m⎠           "
      ]
     },
     "metadata": {},
     "output_type": "display_data"
    },
    {
     "data": {
      "image/png": "[encoded data removed]",
      "text/latex": [
       "$$x{\\left (t \\right )} = - k l m u_{0} \\left(\\frac{e^{- m t}}{m \\left(k - m\\right) \\left(l - m\\right)} - \\frac{e^{- l t}}{l \\left(k - l\\right) \\left(l - m\\right)} + \\frac{e^{- k t}}{k \\left(k - l\\right) \\left(k - m\\right)} - \\frac{1}{k l m}\\right) + l m v_{0} \\left(- \\frac{e^{- m t}}{m \\left(l - m\\right)} + \\frac{e^{- l t}}{l \\left(l - m\\right)} + \\frac{1}{l m}\\right) + m w_{0} \\left(\\frac{1}{m} - \\frac{1}{m} e^{- m t}\\right) + x_{0}$$"
      ],
      "text/plain": [
       "                  ⎛       -m⋅t                -l⋅t                -k⋅t        \n",
       "                  ⎜      ℯ                   ℯ                   ℯ            \n",
       "x(t) = - k⋅l⋅m⋅u₀⋅⎜───────────────── - ───────────────── + ───────────────── -\n",
       "                  ⎝m⋅(k - m)⋅(l - m)   l⋅(k - l)⋅(l - m)   k⋅(k - l)⋅(k - m)  \n",
       "\n",
       "      ⎞          ⎛     -m⋅t        -l⋅t        ⎞        ⎛     -m⋅t⎞     \n",
       "   1  ⎟          ⎜    ℯ           ℯ          1 ⎟        ⎜1   ℯ    ⎟     \n",
       " ─────⎟ + l⋅m⋅v₀⋅⎜- ───────── + ───────── + ───⎟ + m⋅w₀⋅⎜─ - ─────⎟ + x₀\n",
       " k⋅l⋅m⎠          ⎝  m⋅(l - m)   l⋅(l - m)   l⋅m⎠        ⎝m     m  ⎠     "
      ]
     },
     "metadata": {},
     "output_type": "display_data"
    }
   ],
   "source": [
    "bsol = [expr.simplify() for expr in bateman_full(inits, params, t, S('1'), S('0'), sympy.exp)]\n",
    "for func, bs in zip(funcs, bsol):\n",
    "    display(Eq(func, bs))"
   ]
  },
  {
   "cell_type": "markdown",
   "metadata": {},
   "source": [
    "We note that the equations assume $k>0, l>0, m>0$ and all unique.\n",
    "\n",
    "Let's verify that the solutions satisify our differential equations and our initial value problem:"
   ]
  },
  {
   "cell_type": "code",
   "execution_count": 33,
   "metadata": {
    "collapsed": false
   },
   "outputs": [
    {
     "data": {
      "text/plain": [
       "([True, True, True, True], [True, True, True, True])"
      ]
     },
     "execution_count": 33,
     "metadata": {},
     "output_type": "execute_result"
    }
   ],
   "source": [
    "check_trial(bsol), check_init(bsol)"
   ]
  },
  {
   "cell_type": "markdown",
   "metadata": {},
   "source": [
    "Let's plot the solutions, first we need some fast callbacks which we generate with the SymPy function ``lambdify``:"
   ]
  },
  {
   "cell_type": "code",
   "execution_count": 34,
   "metadata": {
    "collapsed": true
   },
   "outputs": [],
   "source": [
    "callbacks = [lambdify((t, params[:-1], inits), bs) for bs in bsol]"
   ]
  },
  {
   "cell_type": "markdown",
   "metadata": {},
   "source": [
    "Let's assert that the callback for $u(t)$ is calculating the correct answer for k=1, t=1.0, u0=3.0:"
   ]
  },
  {
   "cell_type": "code",
   "execution_count": 35,
   "metadata": {
    "collapsed": false
   },
   "outputs": [
    {
     "data": {
      "image/png": "[encoded data removed]",
      "text/latex": [
       "$$\\left ( 1.10363832351, \\quad 1.10363832351\\right )$$"
      ],
      "text/plain": [
       "(1.10363832351, 1.10363832351)"
      ]
     },
     "execution_count": 35,
     "metadata": {},
     "output_type": "execute_result"
    }
   ],
   "source": [
    "callbacks[0](1.0, [1, 2, 3], [3, 2, 1, 0]), sympy.N(3*exp(-1), 12)"
   ]
  },
  {
   "cell_type": "markdown",
   "metadata": {},
   "source": [
    "Let's define some convenience functions for calculating arrays of solutions and plotting those:"
   ]
  },
  {
   "cell_type": "code",
   "execution_count": 36,
   "metadata": {
    "collapsed": true
   },
   "outputs": [],
   "source": [
    "import numpy as np\n",
    "import matplotlib.pyplot as plt\n",
    "%matplotlib inline\n",
    "\n",
    "def solution_vectors(t0=0, tend=4, nt=100, param_vals=None, init_vals=None, modules=None):\n",
    "    callbacks = [lambdify((t, params[:-1], inits), bs, modules) for bs in bsol]\n",
    "    tarr_ = np.linspace(t0, tend, nt)\n",
    "    params_ = param_vals or (1, 2, 3)\n",
    "    inits_ = init_vals or (3, 2, 1, 0)\n",
    "    ysols_ = [[cb(t_, params_, inits_) for t_ in tarr_] for cb in callbacks]\n",
    "    return tarr_, np.asarray(ysols_)\n",
    "\n",
    "def plot_solutions(t_vals, y_vals):\n",
    "    plt.figure(figsize=(8,5))\n",
    "    for idx, ysol_ in enumerate(y_vals):\n",
    "        plt.plot(t_vals, ysol_, label='$%s$' % latex(funcs[idx]))\n",
    "    plt.xlabel('t')\n",
    "    plt.ylabel('N')\n",
    "    plt.legend(loc='best', prop={'size': 16})"
   ]
  },
  {
   "cell_type": "markdown",
   "metadata": {},
   "source": [
    "And let's put those helper functions to work:"
   ]
  },
  {
   "cell_type": "code",
   "execution_count": 37,
   "metadata": {
    "collapsed": false
   },
   "outputs": [
    {
     "data": {
      "image/png": "[encoded data removed]",
      "text/plain": [
       "<matplotlib.figure.Figure at 0x7f57ea0fdf98>"
      ]
     },
     "metadata": {},
     "output_type": "display_data"
    }
   ],
   "source": [
    "t_vals, y_vals = solution_vectors()\n",
    "plot_solutions(t_vals, y_vals)"
   ]
  },
  {
   "cell_type": "markdown",
   "metadata": {},
   "source": [
    "So, this look great. Bateman's equation does however exhibit one unpleasent feature when implemented in\n",
    "algortihms using finite precision floating point arithmetics: if the decay constants are almost equal\n",
    "catastrophic cancellation may occur which induce major loss in precision ([double precision](https://en.wikipedia.org/wiki/Double-precision_floating-point_format) numbers are 64 bit long). Let's see what that might look like:"
   ]
  },
  {
   "cell_type": "code",
   "execution_count": 38,
   "metadata": {
    "collapsed": false
   },
   "outputs": [
    {
     "data": {
      "image/png": "[encoded data removed]",
      "text/plain": [
       "<matplotlib.figure.Figure at 0x7f57cb574f28>"
      ]
     },
     "metadata": {},
     "output_type": "display_data"
    }
   ],
   "source": [
    "double_precision = solution_vectors(param_vals=(3, 3-1e-7, 3+1e-7))\n",
    "plot_solutions(double_precision[0], double_precision[1])"
   ]
  },
  {
   "cell_type": "markdown",
   "metadata": {},
   "source": [
    "We see noise in the solution curves stemming from cancellation. SymPy can use arbitrary precision arithmetics, we will now look at how that affects the solution trajectories. First let's see if we can use \"sympy\" as the module for `lambdify`:"
   ]
  },
  {
   "cell_type": "code",
   "execution_count": 39,
   "metadata": {
    "collapsed": false
   },
   "outputs": [
    {
     "data": {
      "image/png": "[encoded data removed]",
      "text/plain": [
       "<matplotlib.figure.Figure at 0x7f57cb5737b8>"
      ]
     },
     "metadata": {},
     "output_type": "display_data"
    }
   ],
   "source": [
    "multi_precision = solution_vectors(modules='sympy', param_vals=(S(3), 3-S('10**-7'), 3+S('10**-7')))\n",
    "plot_solutions(multi_precision[0], multi_precision[1])"
   ]
  },
  {
   "cell_type": "markdown",
   "metadata": {},
   "source": [
    "No luck there, there seems as if there is an implicit conversion to double precision somewhere(?), we try to go the extra mile and write our own callbacks without using lambdify:"
   ]
  },
  {
   "cell_type": "code",
   "execution_count": 40,
   "metadata": {
    "collapsed": true
   },
   "outputs": [],
   "source": [
    "def callback_factory(bs):\n",
    "    def callback(t_, params_, inits_):\n",
    "        return bs.subs(dict([(t, t_)] + list(zip(params[:-1], params_)) + list(\n",
    "                zip(inits, inits_))))\n",
    "    return callback\n",
    "    \n",
    "def calc_solutions_mp(t0=0, tend=4, nt=100, param_vals=None, init_vals=None, modules=None):\n",
    "    callbacks = []\n",
    "    for bs in bsol:\n",
    "        callbacks.append(callback_factory(bs))\n",
    "    tarr_ = [t0 + i*(tend-t0)/S(nt-1) for i in range(nt)]\n",
    "    params_ = param_vals or (1, 2, 3)\n",
    "    inits_ = init_vals or (3, 2, 1, 0)\n",
    "    ysols_ = [[cb(t_, params_, inits_) for t_ in tarr_] for cb in callbacks]\n",
    "    return tarr_, np.asarray(ysols_)\n"
   ]
  },
  {
   "cell_type": "code",
   "execution_count": 41,
   "metadata": {
    "collapsed": false
   },
   "outputs": [
    {
     "data": {
      "image/png": "[encoded data removed]",
      "text/plain": [
       "<matplotlib.figure.Figure at 0x7f57e9c72b00>"
      ]
     },
     "metadata": {},
     "output_type": "display_data"
    }
   ],
   "source": [
    "multi_precision = calc_solutions_mp(param_vals=(S(3), 3-S('10**-7'), 3+S('10**-7')))\n",
    "\n",
    "plot_solutions(multi_precision[0], multi_precision[1])"
   ]
  },
  {
   "cell_type": "markdown",
   "metadata": {},
   "source": [
    "Success!\n",
    "\n",
    "The generation of solution above is significantly slower due to the extra overhead of arbitrary precision arithmetics.\n",
    "\n",
    "Another remedy to the problem is to integrate the system of ordinary differential equations numerically using an [ODE solver](https://en.wikipedia.org/wiki/Numerical_methods_for_ordinary_differential_equations). But that is a whole topic in its own right and this is about as much as I aspired to show in this notebook. "
   ]
  },
  {
   "cell_type": "markdown",
   "metadata": {},
   "source": [
    "<a rel=\"license\" href=\"http://creativecommons.org/licenses/by-sa/4.0/\"><img alt=\"Creative Commons License\" style=\"border-width:0\" src=\"https://i.creativecommons.org/l/by-sa/4.0/88x31.png\" /></a><br /><span xmlns:dct=\"http://purl.org/dc/terms/\" href=\"http://purl.org/dc/dcmitype/InteractiveResource\" property=\"dct:title\" rel=\"dct:type\">Linear decay chains and the Bateman equation</span> by <span xmlns:cc=\"http://creativecommons.org/ns#\" property=\"cc:attributionName\">Björn I. Dahlgren</span> is licensed under a <a rel=\"license\" href=\"http://creativecommons.org/licenses/by-sa/4.0/\">Creative Commons Attribution-ShareAlike 4.0 International License</a>."
   ]
  }
 ],
 "metadata": {
  "kernelspec": {
   "display_name": "Python 3",
   "language": "python",
   "name": "python3"
  },
  "language_info": {
   "codemirror_mode": {
    "name": "ipython",
    "version": 3
   },
   "file_extension": ".py",
   "mimetype": "text/x-python",
   "name": "python",
   "nbconvert_exporter": "python",
   "pygments_lexer": "ipython3",
   "version": "3.5.2"
  }
 },
 "nbformat": 4,
 "nbformat_minor": 1
}
